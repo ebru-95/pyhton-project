{
  "nbformat": 4,
  "nbformat_minor": 0,
  "metadata": {
    "colab": {
      "provenance": [],
      "authorship_tag": "ABX9TyMsENGmKBzY9t+zI/LLG3H5",
      "include_colab_link": true
    },
    "kernelspec": {
      "name": "python3",
      "display_name": "Python 3"
    },
    "language_info": {
      "name": "python"
    }
  },
  "cells": [
    {
      "cell_type": "markdown",
      "metadata": {
        "id": "view-in-github",
        "colab_type": "text"
      },
      "source": [
        "<a href=\"https://colab.research.google.com/github/ebru-95/pyhton-project/blob/main/Conditions-loop.ipynb\" target=\"_parent\"><img src=\"https://colab.research.google.com/assets/colab-badge.svg\" alt=\"Open In Colab\"/></a>"
      ]
    },
    {
      "cell_type": "code",
      "execution_count": null,
      "metadata": {
        "colab": {
          "base_uri": "https://localhost:8080/"
        },
        "id": "UkfFvJMqXvlJ",
        "outputId": "4d108b8d-da57-4b24-f39f-d148f8f59887"
      },
      "outputs": [
        {
          "output_type": "stream",
          "name": "stdout",
          "text": [
            "The number is equal to 5.\n"
          ]
        }
      ],
      "source": [
        "\n",
        "\n",
        "number = 5\n",
        "\n",
        "if number > 5:\n",
        "    print(\"The number is greater than 5.\")\n",
        "elif number == 5:\n",
        "    print(\"The number is equal to 5.\")\n",
        "else:\n",
        "    print(\"The number is less than 5.\")"
      ]
    },
    {
      "cell_type": "code",
      "source": [
        "for i in range(5):\n",
        "    print(f\"Data structure {i + 1}: Hello World!\")"
      ],
      "metadata": {
        "colab": {
          "base_uri": "https://localhost:8080/"
        },
        "id": "PFaQ3T9sYcMX",
        "outputId": "509744af-f28d-4006-938f-f3c264d70bf1"
      },
      "execution_count": null,
      "outputs": [
        {
          "output_type": "stream",
          "name": "stdout",
          "text": [
            "Data structure 1: Hello World!\n",
            "Data structure 2: Hello World!\n",
            "Data structure 3: Hello World!\n",
            "Data structure 4: Hello World!\n",
            "Data structure 5: Hello World!\n"
          ]
        }
      ]
    },
    {
      "cell_type": "code",
      "source": [],
      "metadata": {
        "id": "NKBhkkU7YuBB"
      },
      "execution_count": null,
      "outputs": []
    }
  ]
}